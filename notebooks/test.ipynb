{
 "cells": [
  {
   "cell_type": "code",
   "execution_count": 1,
   "metadata": {},
   "outputs": [],
   "source": [
    "import numpy as np\n",
    "import matplotlib.pyplot as plt\n",
    "from sklearn.cluster import KMeans\n",
    "from mpl_toolkits.mplot3d import Axes3D\n",
    "\n",
    "# res = [0, 0, 0]\n",
    "# while res[0] != 9 or res[1] != 9 or res[2] != 9:\n",
    "#   colors = np.random.randint(0, 255, (27, 3))\n",
    "#   kmeans = KMeans(n_clusters=3)\n",
    "#   kmeans.fit(colors)\n",
    "#   labels = kmeans.predict(colors)\n",
    "#   res = [np.sum(labels == i) for i in range(3)]\n",
    "#   # fig = plt.figure()\n",
    "#   # ax = fig.add_subplot(111, projection='3d')\n",
    "#   # for i in range(3):\n",
    "#   #   ax.scatter(colors[labels == i, 0], colors[labels == i, 1], colors[labels == i, 2], label=\"Cluster {}\".format(i))\n",
    "#   # plt.title(\"1000 Random Colors Clustered into 10 Clusters\")\n",
    "#   # plt.xlabel(\"Red\")\n",
    "#   # plt.ylabel(\"Green\")\n",
    "#   # # plt.zlabel(\"Blue\")\n",
    "#   # plt.legend()\n",
    "#   # plt.show()"
   ]
  },
  {
   "cell_type": "code",
   "execution_count": 2,
   "metadata": {},
   "outputs": [],
   "source": [
    "main_colors = [[225, 171, 214],\n",
    "        [ 96, 123, 152],\n",
    "        [120, 175, 174],\n",
    "        [217,  40, 177],\n",
    "        [135, 113,  80],\n",
    "        [ 14, 110, 164],\n",
    "        [122, 206, 183],\n",
    "        [200, 227,  36],\n",
    "        [155,  89, 108],\n",
    "        [ 59,  62,  89],\n",
    "        [115, 161,  47],\n",
    "        [225, 102, 179],\n",
    "        [  1, 188,  76],\n",
    "        [ 82, 254, 126],\n",
    "        [246, 111, 171],\n",
    "        [132, 113, 204],\n",
    "        [184,  15,  64],\n",
    "        [175,  15, 180],\n",
    "        [235, 142, 191],\n",
    "        [164,  11, 120],\n",
    "        [177, 118,  55],\n",
    "        [  3, 174, 216],\n",
    "        [162, 115, 223],\n",
    "        [204, 211, 208],\n",
    "        [ 60, 168,  75],\n",
    "        [174, 140,  35],\n",
    "        [  7,  22, 217]]\n",
    "main_labels = [1, 0, 0, 1, 2, 0, 0, 2, 2, 2, 2, 1, 0, 0, 1, 1, 2, 1, 1, 2, 2, 0, 1, 1, 0, 2, 0]"
   ]
  },
  {
   "cell_type": "code",
   "execution_count": 132,
   "metadata": {},
   "outputs": [],
   "source": [
    "np.save('main_colors', main_colors, allow_pickle=True)\n",
    "np.save('main_color_labels', main_labels, allow_pickle=True)"
   ]
  },
  {
   "cell_type": "code",
   "execution_count": 134,
   "metadata": {},
   "outputs": [
    {
     "data": {
      "text/plain": [
       "array([1, 0, 0, 1, 2, 0, 0, 2, 2, 2, 2, 1, 0, 0, 1, 1, 2, 1, 1, 2, 2, 0,\n",
       "       1, 1, 0, 2, 0])"
      ]
     },
     "execution_count": 134,
     "metadata": {},
     "output_type": "execute_result"
    }
   ],
   "source": [
    "main_labels = np.load('main_color_labels.npy')\n",
    "main_labels"
   ]
  },
  {
   "cell_type": "code",
   "execution_count": 5,
   "metadata": {},
   "outputs": [
    {
     "name": "stdout",
     "output_type": "stream",
     "text": [
      "e1abd6\n",
      "607b98\n",
      "78afae\n",
      "d928b1\n",
      "877150\n",
      "0e6ea4\n",
      "7aceb7\n",
      "c8e324\n",
      "9b596c\n",
      "3b3e59\n",
      "73a12f\n",
      "e166b3\n",
      "01bc4c\n",
      "52fe7e\n",
      "f66fab\n",
      "8471cc\n",
      "b80f40\n",
      "af0fb4\n",
      "eb8ebf\n",
      "a40b78\n",
      "b17637\n",
      "03aed8\n",
      "a273df\n",
      "ccd3d0\n",
      "3ca84b\n",
      "ae8c23\n",
      "0716d9\n"
     ]
    }
   ],
   "source": [
    "def rgb_to_hex(r, g, b):\n",
    "  # Convert the RGB components to hexadecimal values.\n",
    "  r_hex = hex(r)[2:].zfill(2)\n",
    "  g_hex = hex(g)[2:].zfill(2)\n",
    "  b_hex = hex(b)[2:].zfill(2)\n",
    "\n",
    "  # Return the hexadecimal color.\n",
    "  return '{}{}{}'.format(r_hex, g_hex, b_hex)\n",
    "\n",
    "# Example usage\n",
    "sharp_colors = []\n",
    "for c in main_colors:\n",
    "    hx = rgb_to_hex(c[0], c[1], c[2])\n",
    "    sharp_colors.append(hx)\n",
    "    print(hx)"
   ]
  },
  {
   "cell_type": "code",
   "execution_count": 8,
   "metadata": {},
   "outputs": [],
   "source": [
    "main_labels = np.array(main_labels)\n",
    "zero = np.where(main_labels == 0)[0]\n",
    "one = np.where(main_labels == 1)[0]\n",
    "two = np.where(main_labels == 2)[0]"
   ]
  },
  {
   "cell_type": "code",
   "execution_count": 10,
   "metadata": {},
   "outputs": [
    {
     "data": {
      "text/plain": [
       "array(['607b98', '78afae', '0e6ea4', '7aceb7', '01bc4c', '52fe7e',\n",
       "       '03aed8', '3ca84b', '0716d9'], dtype='<U6')"
      ]
     },
     "execution_count": 10,
     "metadata": {},
     "output_type": "execute_result"
    }
   ],
   "source": [
    "np.array(sharp_colors)[zero]"
   ]
  },
  {
   "cell_type": "code",
   "execution_count": 11,
   "metadata": {},
   "outputs": [
    {
     "data": {
      "text/plain": [
       "array(['e1abd6', 'd928b1', 'e166b3', 'f66fab', '8471cc', 'af0fb4',\n",
       "       'eb8ebf', 'a273df', 'ccd3d0'], dtype='<U6')"
      ]
     },
     "execution_count": 11,
     "metadata": {},
     "output_type": "execute_result"
    }
   ],
   "source": [
    "np.array(sharp_colors)[one]"
   ]
  },
  {
   "cell_type": "code",
   "execution_count": 12,
   "metadata": {},
   "outputs": [
    {
     "data": {
      "text/plain": [
       "array(['877150', 'c8e324', '9b596c', '3b3e59', '73a12f', 'b80f40',\n",
       "       'a40b78', 'b17637', 'ae8c23'], dtype='<U6')"
      ]
     },
     "execution_count": 12,
     "metadata": {},
     "output_type": "execute_result"
    }
   ],
   "source": [
    "np.array(sharp_colors)[two]"
   ]
  },
  {
   "cell_type": "code",
   "execution_count": 40,
   "metadata": {},
   "outputs": [
    {
     "data": {
      "text/plain": [
       "'0a1891'"
      ]
     },
     "execution_count": 40,
     "metadata": {},
     "output_type": "execute_result"
    }
   ],
   "source": [
    "# test_color = np.random.randint(0, 255, (1, 3))[0]\n",
    "test_color = [10, 24, 145]\n",
    "c = test_color\n",
    "sharp_test_color = rgb_to_hex(c[0], c[1], c[2])\n",
    "sharp_test_color"
   ]
  },
  {
   "cell_type": "code",
   "execution_count": 15,
   "metadata": {},
   "outputs": [],
   "source": [
    "def softmax(x):\n",
    "  exp_x = np.exp(x)\n",
    "  sum_exp_x = np.sum(exp_x)\n",
    "  return exp_x / sum_exp_x"
   ]
  },
  {
   "cell_type": "code",
   "execution_count": 156,
   "metadata": {},
   "outputs": [],
   "source": [
    "# ! pip install colour\n",
    "from colour import Color\n",
    "red = Color(\"red\")\n",
    "spectrum_colors = list(red.range_to(Color(\"green\"),9))\n",
    "   \n",
    "# colors is now a list of length 10\n",
    "# Containing: \n",
    "# [<Color red>, <Color #f13600>, <Color #e36500>, <Color #d58e00>, <Color #c7b000>, <Color #a4b800>, <Color #72aa00>, <Color #459c00>, <Color #208e00>, <Color green>]"
   ]
  },
  {
   "cell_type": "code",
   "execution_count": 154,
   "metadata": {},
   "outputs": [],
   "source": [
    "colors = list(red.range_to(Color('green'), 200))"
   ]
  },
  {
   "cell_type": "code",
   "execution_count": 157,
   "metadata": {},
   "outputs": [
    {
     "data": {
      "text/plain": [
       "[<Color red>,\n",
       " <Color #ef3c00>,\n",
       " <Color #df7000>,\n",
       " <Color #cf9c00>,\n",
       " <Color #bfbf00>,\n",
       " <Color #84b000>,\n",
       " <Color #50a000>,\n",
       " <Color #249000>,\n",
       " <Color green>]"
      ]
     },
     "execution_count": 157,
     "metadata": {},
     "output_type": "execute_result"
    }
   ],
   "source": [
    "spectrum_colors"
   ]
  },
  {
   "cell_type": "code",
   "execution_count": 74,
   "metadata": {},
   "outputs": [],
   "source": [
    "from sklearn.metrics.pairwise import cosine_similarity\n",
    "from sklearn.metrics.pairwise import euclidean_distances\n",
    "from sklearn.preprocessing import MinMaxScaler\n",
    "\n",
    "dists = euclidean_distances([test_color], main_colors)[0]\n",
    "sims = cosine_similarity([test_color], main_colors)[0]\n",
    "# np.array(main_colors)[zero]"
   ]
  },
  {
   "cell_type": "code",
   "execution_count": 80,
   "metadata": {},
   "outputs": [],
   "source": [
    "# softmax(sims[zero])\n",
    "def min_max_normalize(data):\n",
    "  # Calculate the minimum and maximum values in the dataset.\n",
    "  min_val = data.min()\n",
    "  max_val = data.max()\n",
    "\n",
    "  # Subtract the minimum value from each value and then divide by the difference between the maximum and minimum values.\n",
    "  normalized_data = (data - min_val) / (max_val - min_val)\n",
    "\n",
    "  return normalized_data"
   ]
  },
  {
   "cell_type": "code",
   "execution_count": 100,
   "metadata": {},
   "outputs": [
    {
     "data": {
      "text/plain": [
       "array([0.80875584, 0.75771651, 0.91072967, 0.73659735, 0.52027768,\n",
       "       0.57925576, 0.86941579, 0.54396105, 0.99737957])"
      ]
     },
     "execution_count": 100,
     "metadata": {},
     "output_type": "execute_result"
    }
   ],
   "source": [
    "sims[zero]"
   ]
  },
  {
   "cell_type": "code",
   "execution_count": 101,
   "metadata": {},
   "outputs": [
    {
     "data": {
      "text/plain": [
       "array([0.71588607, 0.69100846, 0.68206891, 0.63568377, 0.85146155,\n",
       "       0.7614352 , 0.67895092, 0.83449954, 0.70320311])"
      ]
     },
     "execution_count": 101,
     "metadata": {},
     "output_type": "execute_result"
    }
   ],
   "source": [
    "sims[one]"
   ]
  },
  {
   "cell_type": "code",
   "execution_count": 102,
   "metadata": {},
   "outputs": [
    {
     "data": {
      "text/plain": [
       "array([0.54980209, 0.28225114, 0.62886622, 0.82372254, 0.39486091,\n",
       "       0.39884221, 0.64389954, 0.38856399, 0.30554828])"
      ]
     },
     "execution_count": 102,
     "metadata": {},
     "output_type": "execute_result"
    }
   ],
   "source": [
    "sims[two]"
   ]
  },
  {
   "cell_type": "code",
   "execution_count": 134,
   "metadata": {},
   "outputs": [],
   "source": [
    "# zero_softmax = []\n",
    "# zero_responses = (np.random.randint(0, 100, (1, 9)) / 100)[0]\n",
    "# for i in range(9):\n",
    "#     sign = np.random.randint(2)\n",
    "#     if sign:\n",
    "#         zero_softmax.append(sims[zero][i] + 0.4 * zero_responses[i])\n",
    "#     else:\n",
    "#         zero_softmax.append(sims[zero][i] - 0.4 * zero_responses[i])\n",
    "zero_softmax = softmax(zero_softmax)"
   ]
  },
  {
   "cell_type": "code",
   "execution_count": 135,
   "metadata": {},
   "outputs": [],
   "source": [
    "# one_softmax = []\n",
    "# one_responses = (np.random.randint(0, 100, (1, 9)) / 100)[0]\n",
    "# for i in range(9):\n",
    "#     sign = np.random.randint(2)\n",
    "#     if sign:\n",
    "#         one_softmax.append(sims[one][i] + 0.4 * one_responses[i])\n",
    "#     else:\n",
    "#         one_softmax.append(sims[one][i] - 0.4 * one_responses[i])\n",
    "one_softmax = softmax(one_softmax)"
   ]
  },
  {
   "cell_type": "code",
   "execution_count": 136,
   "metadata": {},
   "outputs": [],
   "source": [
    "# two_softmax = []\n",
    "# two_responses = (np.random.randint(0, 100, (1, 9)) / 100)[0]\n",
    "# for i in range(9):\n",
    "#     sign = np.random.randint(2)\n",
    "#     if sign:\n",
    "#         two_softmax.append(sims[two][i] + 0.4 * two_responses[i])\n",
    "#     else:\n",
    "#         two_softmax.append(sims[two][i] - 0.4 * two_responses[i])\n",
    "two_softmax = softmax(two_softmax)"
   ]
  },
  {
   "cell_type": "code",
   "execution_count": 145,
   "metadata": {},
   "outputs": [
    {
     "name": "stdout",
     "output_type": "stream",
     "text": [
      "#c4b500\n",
      "#64a600\n",
      "#99b600\n",
      "#c1bc00\n",
      "#d48f00\n",
      "#c7ae00\n",
      "#caa900\n",
      "#85b000\n",
      "#0b8500\n",
      "--------\n",
      "#cba700\n",
      "#a5b900\n",
      "#cda100\n",
      "#c0be00\n",
      "#c0bf00\n",
      "#66a700\n",
      "#cba700\n",
      "#439b00\n",
      "#4d9f00\n",
      "--------\n",
      "#9cb600\n",
      "#c2ba00\n",
      "#c2bb00\n",
      "#279100\n",
      "#b2bc00\n",
      "#afbb00\n",
      "#8bb200\n",
      "#9eb700\n",
      "#d09b00\n"
     ]
    }
   ],
   "source": [
    "for z in zero_softmax:\n",
    "    print(colors[int(z*1000)])\n",
    "\n",
    "print('--------')\n",
    "for o in one_softmax:\n",
    "    print(colors[int(o*1000)])\n",
    "    \n",
    "print('--------')\n",
    "for t in two_softmax:\n",
    "    print(colors[int(t*1000)])"
   ]
  },
  {
   "cell_type": "code",
   "execution_count": 152,
   "metadata": {},
   "outputs": [
    {
     "name": "stdout",
     "output_type": "stream",
     "text": [
      "#54a100\n",
      "#73ab00\n",
      "#238f00\n",
      "#7eae00\n",
      "#d58d00\n",
      "#caa900\n",
      "#359600\n",
      "#d09900\n",
      "green\n",
      "--------\n",
      "#8bb200\n",
      "#9cb600\n",
      "#a3b800\n",
      "#c0be00\n",
      "#3e9a00\n",
      "#6fa900\n",
      "#a5b900\n",
      "#479d00\n",
      "#95b400\n",
      "--------\n",
      "#d09b00\n",
      "red\n",
      "#c2bb00\n",
      "#4d9f00\n",
      "#eb4900\n",
      "#eb4b00\n",
      "#bcbf00\n",
      "#ec4500\n",
      "#fb0f00\n"
     ]
    }
   ],
   "source": [
    "for z in min_max_normalize(sims)[zero]:\n",
    "    print(colors[np.min([199, int(z*1000) // 5])])\n",
    "\n",
    "print('--------')\n",
    "for o in min_max_normalize(sims)[one]:\n",
    "    print(colors[np.min([199, int(o*1000) // 5])])\n",
    "    \n",
    "print('--------')\n",
    "for t in min_max_normalize(sims)[two]:\n",
    "    print(colors[np.min([199, int(t*1000) // 5])])"
   ]
  },
  {
   "cell_type": "code",
   "execution_count": null,
   "metadata": {},
   "outputs": [],
   "source": []
  }
 ],
 "metadata": {
  "kernelspec": {
   "display_name": "Python 3",
   "language": "python",
   "name": "python3"
  },
  "language_info": {
   "codemirror_mode": {
    "name": "ipython",
    "version": 3
   },
   "file_extension": ".py",
   "mimetype": "text/x-python",
   "name": "python",
   "nbconvert_exporter": "python",
   "pygments_lexer": "ipython3",
   "version": "3.10.6"
  },
  "orig_nbformat": 4
 },
 "nbformat": 4,
 "nbformat_minor": 2
}
